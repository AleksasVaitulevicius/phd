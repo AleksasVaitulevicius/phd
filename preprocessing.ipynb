{
 "cells": [
  {
   "cell_type": "code",
   "execution_count": 1,
   "id": "0864c748-ed57-4c33-b505-69f9cdfb1452",
   "metadata": {},
   "outputs": [],
   "source": [
    "import os\n",
    "import math\n",
    "import cv2 as cv\n",
    "import numpy as np\n",
    "import pandas as pd\n"
   ]
  },
  {
   "cell_type": "markdown",
   "id": "56439173-d9db-4c6c-b0ab-0faf913e4728",
   "metadata": {
    "tags": []
   },
   "source": [
    "## FOLDER SETUP"
   ]
  },
  {
   "cell_type": "code",
   "execution_count": 2,
   "id": "05b01db4-8d0d-42ca-8373-f948b925f6de",
   "metadata": {},
   "outputs": [],
   "source": [
    "path_original =  './data/'\n",
    "path_processed = './processed/'\n",
    "path_norm =      './processed/full_normalized/'\n",
    "path_segments =  './processed/segmented/'\n",
    "\n",
    "path_maskP =     './processed/mask_prostate/'\n",
    "path_maskC =     './processed/mask_cancer/'\n",
    "path_maskB =     './processed/mask_biopsy/'\n"
   ]
  },
  {
   "cell_type": "markdown",
   "id": "4a852f7f-fddf-4658-ba94-7a8dec4aae55",
   "metadata": {
    "tags": []
   },
   "source": [
    "## GET METADATA"
   ]
  },
  {
   "cell_type": "code",
   "execution_count": null,
   "id": "199ccfbe-5234-4737-8c10-74a878b2be0f",
   "metadata": {
    "tags": []
   },
   "outputs": [],
   "source": [
    "metadata_path = []\n",
    "metadata_patient = []\n",
    "metadata_cycle = []\n",
    "metadata_slice = []\n",
    "metadata_height = []\n",
    "metadata_width = []\n",
    "metadata_intmin = []\n",
    "metadata_intavg = []\n",
    "metadata_intmax = []\n",
    "\n",
    "for patient_i in os.listdir(path_original):\n",
    "\tprint(f'>> PATIENT {patient_i}')\n",
    "\n",
    "\tfor cycle_i in os.listdir(f'{path_original}{patient_i}'):\n",
    "\t\tif not cycle_i.startswith(\"contrast-t\"):\n",
    "\t\t\tcontinue\n",
    "\n",
    "\t\tfor slice_i in os.listdir(f'{path_original}{patient_i}/{cycle_i}'):\n",
    "\t\t\timage = cv.imread(f'{path_original}{patient_i}/{cycle_i}/{slice_i}', cv.IMREAD_ANYDEPTH)\n",
    "\n",
    "\t\t\tmetadata_path.append(f'{patient_i}/{cycle_i}/{slice_i}')\n",
    "\t\t\tmetadata_patient.append(int(patient_i.lstrip('0')))\n",
    "\t\t\tmetadata_cycle.append(int(cycle_i.replace('contrast-t', '')))\n",
    "\t\t\tmetadata_slice.append(int(os.path.splitext(slice_i)[0]))\n",
    "\n",
    "\t\t\tmetadata_height.append(image.shape[0])\n",
    "\t\t\tmetadata_width.append(image.shape[1])\n",
    "\n",
    "\t\t\tmetadata_intmin.append(np.min(image))\n",
    "\t\t\tmetadata_intavg.append(np.round(np.mean(image), decimals = 2))\n",
    "\t\t\tmetadata_intmax.append(np.max(image))\n",
    "\n",
    "metadata = pd.DataFrame({\n",
    "    'path':     metadata_path,\n",
    "    'patient':  metadata_patient,\n",
    "    'cycle':    metadata_cycle,\n",
    "    'slice':    metadata_slice,\n",
    "    'height':   metadata_height,\n",
    "    'width':    metadata_width,\n",
    "    'intmin':   metadata_intmin,\n",
    "    'intavg':   metadata_intavg,\n",
    "    'intmax':   metadata_intmax,\n",
    "})\n",
    "\n",
    "\n",
    "if not os.path.exists(path_processed):\n",
    "\tos.makedirs(path_processed)\n",
    "\n",
    "metadata.to_csv(f'{path_processed}metadata.csv', index=False)\n",
    "\n"
   ]
  },
  {
   "cell_type": "markdown",
   "id": "58045fb1-ac56-4b28-a76d-09d29b104d62",
   "metadata": {
    "tags": []
   },
   "source": [
    "## RESCALE PROSTATE MASKS"
   ]
  },
  {
   "cell_type": "code",
   "execution_count": null,
   "id": "90f8e284-7353-4a4f-a870-8faa44a899cc",
   "metadata": {},
   "outputs": [],
   "source": [
    "metadata = pd.read_csv(f'{path_processed}metadata.csv')\n",
    "metadata['has_prostate'] = False\n",
    "\n",
    "for patient_i in os.listdir(path_original):\n",
    "# for patient_i in ['059']:\n",
    "\n",
    "\tpatient_i_rename = int(patient_i.lstrip('0')) # patient name not from metadata, needs manual name adjustment\n",
    "\n",
    "\tfor cycle_i in os.listdir(f'{path_original}{patient_i}'):\n",
    "\t\tif not cycle_i.startswith(\"prostateMask\"):\n",
    "\t\t\tcontinue\n",
    "\n",
    "\t\tfor slice_i in os.listdir(f'{path_original}{patient_i}/{cycle_i}'):\n",
    "\t\t\timage = cv.imread(f'{path_original}{patient_i}/{cycle_i}/{slice_i}', cv.IMREAD_ANYDEPTH)\n",
    "\t\t\tslice_no = int(slice_i.replace('.png', ''))\n",
    "\t\t\tif np.any(image != 0):\n",
    "\t\t\t\tmetadata.loc[\n",
    "\t\t\t\t\t(metadata['patient'] == patient_i_rename) & (metadata['slice'] == slice_no),\n",
    "\t\t\t\t\t['has_prostate']\n",
    "\t\t\t\t] = True\n",
    "\n",
    "\t\t\timage_normalized = image * 255\n",
    "\n",
    "\t\t\tif not os.path.exists(f'{path_maskP}{patient_i_rename}'): # if folder doesnt exist - create\n",
    "\t\t\t\tos.makedirs(f'{path_maskP}{patient_i_rename}')\n",
    "\n",
    "\t\t\tcv.imwrite(f'{path_maskP}{patient_i_rename}/{slice_i}', image_normalized)\n",
    "\n",
    "metadata.to_csv(f'{path_processed}metadata.csv', index=False)"
   ]
  },
  {
   "cell_type": "markdown",
   "id": "eeb8abec-d3bb-49a5-87ec-3b5f1319d965",
   "metadata": {
    "tags": []
   },
   "source": [
    "## RESCALE CANCER MASKS"
   ]
  },
  {
   "cell_type": "code",
   "execution_count": 4,
   "id": "349580b7-1fdb-4c5f-abb6-48d21aefb8fd",
   "metadata": {},
   "outputs": [],
   "source": [
    "for patient_i in os.listdir(path_original):\n",
    "# for patient_i in ['053', '086', '109']:\n",
    "\n",
    "\tpatient_i_rename = int(patient_i.lstrip('0')) # patient name not from metadata, needs manual name adjustment\n",
    "\n",
    "\tfor cycle_i in os.listdir(f'{path_original}{patient_i}'):\n",
    "\t\tif not cycle_i.startswith(\"regionMask\"):\n",
    "\t\t\tcontinue\n",
    "\n",
    "\t\tfor slice_i in os.listdir(f'{path_original}{patient_i}/{cycle_i}'):\n",
    "\t\t\timage = cv.imread(f'{path_original}{patient_i}/{cycle_i}/{slice_i}', cv.IMREAD_ANYDEPTH)\n",
    "\n",
    "\t\t\timage_normalized = image * 255\n",
    "\n",
    "\t\t\tif not os.path.exists(f'{path_maskC}{patient_i_rename}'): # if folder doesnt exist - create\n",
    "\t\t\t\tos.makedirs(f'{path_maskC}{patient_i_rename}')\n",
    "\n",
    "\t\t\tcv.imwrite(f'{path_maskC}{patient_i_rename}/{slice_i}', image_normalized)\n",
    "\n"
   ]
  },
  {
   "cell_type": "markdown",
   "id": "46e93317-6d7a-45ad-89aa-f64404bc7ad0",
   "metadata": {
    "tags": []
   },
   "source": [
    "## RESCALE BIOPSY MASKS"
   ]
  },
  {
   "cell_type": "code",
   "execution_count": null,
   "id": "e5819229-50d8-480a-a74e-96b25fe286e3",
   "metadata": {},
   "outputs": [],
   "source": [
    "for patient_i in os.listdir(path_original):\n",
    "\n",
    "\tpatient_i_rename = int(patient_i.lstrip('0')) # patient name not from metadata, needs manual name adjustment\n",
    "\n",
    "\tif patient_i_rename < 3:\n",
    "\t\tcontinue\n",
    "\tfor cycle_i in os.listdir(f'{path_original}{patient_i}'):\n",
    "\t\tif not cycle_i.startswith(\"biopsyMask\"):\n",
    "\t\t\tcontinue\n",
    "\n",
    "\t\tfor slice_i in os.listdir(f'{path_original}{patient_i}/{cycle_i}'):\n",
    "\t\t\timage = cv.imread(f'{path_original}{patient_i}/{cycle_i}/{slice_i}', cv.IMREAD_ANYDEPTH)\n",
    "\n",
    "\t\t\timage_normalized = image / image * 255\n",
    "\n",
    "\t\t\tif not os.path.exists(f'{path_maskB}{patient_i_rename}'): # if folder doesnt exist - create\n",
    "\t\t\t\tos.makedirs(f'{path_maskB}{patient_i_rename}')\n",
    "\n",
    "\t\t\tcv.imwrite(f'{path_maskB}{patient_i_rename}/{slice_i}', image_normalized)\n",
    "\n"
   ]
  },
  {
   "cell_type": "markdown",
   "id": "4544cad0-218c-4b24-9b44-34b86503ad85",
   "metadata": {
    "tags": []
   },
   "source": [
    "## NORMALIZE IMAGES"
   ]
  },
  {
   "cell_type": "code",
   "execution_count": null,
   "id": "4712ce23-f717-445c-bfe9-190e65576cb4",
   "metadata": {
    "tags": []
   },
   "outputs": [],
   "source": [
    "metadata = pd.read_csv(f'{path_processed}metadata.csv')\n",
    "\n",
    "total_patients = len(np.unique(metadata.query('has_prostate')['patient']))\n",
    "print(f'Total patients: {total_patients}')\n",
    "\n",
    "norm_intavg = np.zeros(shape = [len(metadata['path'])])\n",
    "norm_intstd = np.zeros(shape = [len(metadata['path'])])\n",
    "\n",
    "for patient_i in np.unique(metadata['patient']):\n",
    "# for patient_i in [53, 86, 109]:\n",
    "\tprint(patient_i)\n",
    "\tbool_patient = np.equal(metadata['patient'], patient_i)\n",
    "\tintmax_patient = max(metadata['intmax'] * bool_patient) # select max intensity for given patient\n",
    "\n",
    "\tfor enum_index, enum_value in enumerate(metadata['patient']):\n",
    "\n",
    "\t\tif enum_value != patient_i: # only for given patient\n",
    "\t\t\tcontinue\n",
    "\n",
    "\t\timage_cycle = metadata['cycle'][enum_index]\n",
    "\t\timage_slice = metadata['slice'][enum_index]\n",
    "\n",
    "\t\timage = cv.imread(f'{path_original}{metadata[\"path\"][enum_index]}', cv.IMREAD_ANYDEPTH)\n",
    "\t\timage_normalized = image / intmax_patient * 255\n",
    "\n",
    "\t\tnorm_intavg[enum_index] = np.mean(image_normalized)\n",
    "\t\tnorm_intstd[enum_index] = np.std(image_normalized)\n",
    "\n",
    "\t\tif not os.path.exists(f'{path_norm}{patient_i}'): # if folder doesnt exist - create\n",
    "\t\t\tos.makedirs(f'{path_norm}{patient_i}')\n",
    "\n",
    "\t\t# SAVE ALL SLICES:\n",
    "\t\tcv.imwrite(f'{path_norm}{patient_i}/{image_cycle}-{image_slice}.png', image_normalized)\n",
    "\n"
   ]
  },
  {
   "cell_type": "markdown",
   "id": "a8807c96-2423-4e89-a202-129bf1d90aaf",
   "metadata": {
    "tags": []
   },
   "source": [
    "# Calculate SLIC region min sizes"
   ]
  },
  {
   "cell_type": "code",
   "execution_count": 9,
   "id": "b7ebf40d-daa1-47a4-b005-b4bb4d2ced53",
   "metadata": {
    "tags": []
   },
   "outputs": [],
   "source": [
    "from PIL import Image\n",
    "import numpy as np\n",
    "import pandas as pd\n",
    "import os\n",
    "\n",
    "slic_size = 50\n",
    "\n",
    "\n",
    "def calculate_sizes(row):\n",
    "\twith Image.open(f'./processed/mask_prostate/{row[\"patient\"]}/{row[\"slice\"]}.png') as img:\n",
    "\t\tmatrix = np.array(img)\n",
    "\treturn np.sum(matrix) / 255\n",
    "\n",
    "\n",
    "def has_cancer(row):\n",
    "\tfile = f'./filtered_cancer_masks/{row[\"patient\"]:03}/regionMaskByType/{row[\"slice\"]}.png'\n",
    "\tif not os.path.exists(file):\n",
    "\t\treturn False\n",
    "\twith Image.open(file) as img:\n",
    "\t\tmatrix = np.array(img)\n",
    "\treturn np.any(matrix == 2)\n",
    "\n",
    "\n",
    "metadata = pd.read_csv('./processed/metadata.csv') # .drop([['has_cancer', 'slic_size']], axis='columns')\n",
    "metadata = (\n",
    "\tmetadata[['patient', 'slice']].drop_duplicates()\n",
    "\t\t.assign(\n",
    "\t\t\thas_cancer=lambda x: x.apply(has_cancer, axis='columns'),\n",
    "\t\t\tslic_size=lambda x: x.apply(calculate_sizes, axis='columns'),\n",
    "\t\t)\n",
    "\t\t.assign(max_size=lambda x: x.groupby('patient').slic_size.transform('max'))\n",
    "\t\t.query('max_size != 0')\n",
    "\t\t.assign(slic_size=lambda x: slic_size * x.slic_size / x.max_size)\n",
    "\t\t.assign(slic_size=lambda x: x.slic_size.astype(int))\n",
    "\t\t.drop('max_size', axis='columns')\n",
    "\t\t.merge(metadata, how='right')\n",
    "\t\t.to_csv('./processed/metadata.csv', index=False)\n",
    ")\n"
   ]
  }
 ],
 "metadata": {
  "kernelspec": {
   "display_name": "Python 3 (ipykernel)",
   "language": "python",
   "name": "python3"
  },
  "language_info": {
   "codemirror_mode": {
    "name": "ipython",
    "version": 3
   },
   "file_extension": ".py",
   "mimetype": "text/x-python",
   "name": "python",
   "nbconvert_exporter": "python",
   "pygments_lexer": "ipython3",
   "version": "3.8.10"
  }
 },
 "nbformat": 4,
 "nbformat_minor": 5
}
