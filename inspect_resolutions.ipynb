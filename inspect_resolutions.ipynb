{
 "cells": [
  {
   "cell_type": "code",
   "execution_count": 2,
   "id": "29530b7f-3f0f-4f3a-a2aa-aeb8990aee23",
   "metadata": {},
   "outputs": [],
   "source": [
    "from PIL import Image\n",
    "import numpy as np\n",
    "import pandas as pd\n",
    "import os"
   ]
  },
  {
   "cell_type": "code",
   "execution_count": 2,
   "id": "b115d546-66de-479e-a3a2-9205463ad969",
   "metadata": {},
   "outputs": [
    {
     "name": "stderr",
     "output_type": "stream",
     "text": [
      "C:\\Users\\Aleksas\\AppData\\Local\\Packages\\PythonSoftwareFoundation.Python.3.8_qbz5n2kfra8p0\\LocalCache\\local-packages\\Python38\\site-packages\\IPython\\core\\interactiveshell.py:3444: DtypeWarning: Columns (2) have mixed types.Specify dtype option on import or set low_memory=False.\n",
      "  exec(code_obj, self.user_global_ns, self.user_ns)\n"
     ]
    }
   ],
   "source": [
    "\n",
    "metadata = pd.read_csv('./processed/metadata.csv')[['patient', 'slice']].drop_duplicates()"
   ]
  },
  {
   "cell_type": "code",
   "execution_count": 25,
   "id": "eb8dd528-173c-42e3-8f94-79581afbe7ae",
   "metadata": {},
   "outputs": [],
   "source": [
    "def get_shape(row):\n",
    "\tfile = f'./processed/mask_prostate/{row[\"patient\"]}/{row[\"slice\"]}.png'\n",
    "\t# file = f'./filtered_cancer_masks/{row[\"patient\"]:03}/regionMaskByType/{row[\"slice\"]}.png'\n",
    "\t# file = f'./processed/full_normalized/{row[\"patient\"]}/1-{row[\"slice\"]}.png'\n",
    "\tif not os.path.exists(file):\n",
    "\t\treturn None\n",
    "\twith Image.open(file) as img:\n",
    "\t\tsize = img.size\n",
    "\treturn size\n",
    "\n",
    "\n",
    "# metadata['cancer'] = metadata.apply(get_shape, axis='columns')\n",
    "metadata['prostate'] = metadata.apply(get_shape, axis='columns')"
   ]
  },
  {
   "cell_type": "code",
   "execution_count": 26,
   "id": "d13ee55e-4232-4802-98ba-f40eab132a71",
   "metadata": {},
   "outputs": [
    {
     "data": {
      "text/html": [
       "<div>\n",
       "<style scoped>\n",
       "    .dataframe tbody tr th:only-of-type {\n",
       "        vertical-align: middle;\n",
       "    }\n",
       "\n",
       "    .dataframe tbody tr th {\n",
       "        vertical-align: top;\n",
       "    }\n",
       "\n",
       "    .dataframe thead th {\n",
       "        text-align: right;\n",
       "    }\n",
       "</style>\n",
       "<table border=\"1\" class=\"dataframe\">\n",
       "  <thead>\n",
       "    <tr style=\"text-align: right;\">\n",
       "      <th></th>\n",
       "      <th>patient</th>\n",
       "      <th>cancer</th>\n",
       "      <th>prostate</th>\n",
       "    </tr>\n",
       "  </thead>\n",
       "  <tbody>\n",
       "    <tr>\n",
       "      <th>0</th>\n",
       "      <td>102</td>\n",
       "      <td>(768, 768)</td>\n",
       "      <td>(640, 640)</td>\n",
       "    </tr>\n",
       "  </tbody>\n",
       "</table>\n",
       "</div>"
      ],
      "text/plain": [
       "   patient      cancer    prostate\n",
       "0      102  (768, 768)  (640, 640)"
      ]
     },
     "execution_count": 26,
     "metadata": {},
     "output_type": "execute_result"
    }
   ],
   "source": [
    "metadata[['cancer', 'prostate']].drop_duplicates().query('cancer != prostate').merge(metadata)[['patient', 'cancer', 'prostate']].drop_duplicates()"
   ]
  }
 ],
 "metadata": {
  "kernelspec": {
   "display_name": "Python 3 (ipykernel)",
   "language": "python",
   "name": "python3"
  },
  "language_info": {
   "codemirror_mode": {
    "name": "ipython",
    "version": 3
   },
   "file_extension": ".py",
   "mimetype": "text/x-python",
   "name": "python",
   "nbconvert_exporter": "python",
   "pygments_lexer": "ipython3",
   "version": "3.8.10"
  }
 },
 "nbformat": 4,
 "nbformat_minor": 5
}
