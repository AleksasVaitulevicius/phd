{
 "cells": [
  {
   "cell_type": "code",
   "execution_count": 2,
   "id": "73d81e37-534a-4781-bcf9-0a15692008fd",
   "metadata": {},
   "outputs": [],
   "source": [
    "import pandas as pd\n",
    "import numpy as np\n",
    "import os"
   ]
  },
  {
   "cell_type": "code",
   "execution_count": 2,
   "id": "a7fdfe41-3910-494d-b129-2e7a2b8c25fc",
   "metadata": {},
   "outputs": [],
   "source": [
    "import csv"
   ]
  },
  {
   "cell_type": "code",
   "execution_count": 7,
   "id": "f75e239e-f16b-4b3e-ab09-e73d9205ca28",
   "metadata": {},
   "outputs": [],
   "source": [
    "\n",
    "with open('metrics_all_data.csv', mode='w', newline='') as test_file:\n",
    "\tfile_writer = csv.writer(test_file)\n",
    "\tfile_writer.writerow(\n",
    "\t\t[\n",
    "            'segmentation', 'F1', 'precision', 'recall', 'accuracy', 'specificity',\n",
    "            'train_F1', 'train_precision', 'train_recall', 'train_accuracy', 'train_specificity',\n",
    "        ]\n",
    "\t)\n"
   ]
  },
  {
   "cell_type": "code",
   "execution_count": 3,
   "id": "1a5db220-61bf-4cba-a7e3-125b68613afe",
   "metadata": {},
   "outputs": [],
   "source": [
    "\n",
    "\n",
    "with open('segmented-data-v1-4.csv', mode='w', newline='') as test_file:\n",
    "\tfile_writer = csv.writer(test_file)\n",
    "\tfile_writer.writerow(\n",
    "\t\t[\n",
    "\t\t\t'img_type', 'patient_id', 'cycle_id', 'slice_id', 'mask_int_mean',\n",
    "\t\t\t'confirmed_cancer', 'unconfirmed_cancer', 'benign', 'segment',\n",
    "\t\t]\n",
    "\t)\n",
    "\n"
   ]
  },
  {
   "cell_type": "code",
   "execution_count": 11,
   "id": "8e6ba965-c55a-43fe-bb65-64f6d0bc54bb",
   "metadata": {},
   "outputs": [],
   "source": [
    "\n",
    "path_processed = './processed/'\n",
    "metadata = pd.read_csv(f'{path_processed}metadata.csv')\n",
    "(\n",
    "\tmetadata\n",
    "\t\t[metadata.patient.apply(lambda x: x not in [102, 129, 54, 61, 65, 67, 68, 84, 88, 89, 94, 95])]\n",
    "\t\t.query('has_prostate')\n",
    "\t\t[['patient', 'cycle', 'slice']]\n",
    "\t\t.rename({'patient': 'patient_id', 'cycle': 'cycle_id', 'slice': 'slice_id'}, axis='columns')\n",
    "\t\t.to_csv('./inpsecting.csv', index=False)\n",
    ")"
   ]
  },
  {
   "cell_type": "code",
   "execution_count": 8,
   "id": "c8e66106-7d60-4ae0-a34e-ea0208237956",
   "metadata": {},
   "outputs": [
    {
     "data": {
      "text/plain": [
       "False    25844\n",
       "True        26\n",
       "Name: label, dtype: int64"
      ]
     },
     "execution_count": 8,
     "metadata": {},
     "output_type": "execute_result"
    }
   ],
   "source": [
    "pd.concat(\n",
    "\t[\n",
    "\t\tpd.read_csv(\n",
    "\t\t\tfile,\n",
    "\t\t\tdtype={\n",
    "\t\t\t\t'img_type': int,\n",
    "\t\t\t\t'patient_id': int,\n",
    "\t\t\t\t'cycle_id': int,\n",
    "\t\t\t\t'slice_id': int,\n",
    "\t\t\t\t'label': str,\n",
    "\t\t\t\t'confirmed_cancer': str,\n",
    "\t\t\t\t'unconfirmed_cancer': str,\n",
    "\t\t\t\t'benign': str,\n",
    "\t\t\t\t'mask_int_mean': float,\n",
    "\t\t\t\t'segment': int,\n",
    "\t\t\t},\n",
    "\t\t)\n",
    "\t\tfor file in [\n",
    "\t\t\t'filtered/segmented-data.csv',\n",
    "\t\t\t'filtered/segmented-data-1.csv',\n",
    "\t\t\t'filtered/segmented-data-2.csv',\n",
    "\t\t\t'filtered/segmented-data-3.csv',\n",
    "\t\t\t'filtered/segmented-data-4.csv',\n",
    "\t\t\t'filtered/segmented-data-41.csv',\n",
    "\t\t\t'filtered/segmented-data-5.csv',\n",
    "\t\t]\n",
    "\t]\n",
    ").query('segment == 0 and patient_id == 116').label.value_counts()"
   ]
  },
  {
   "cell_type": "code",
   "execution_count": 12,
   "id": "27c71b56-63ce-4daf-bdac-532cb714d089",
   "metadata": {},
   "outputs": [
    {
     "name": "stdout",
     "output_type": "stream",
     "text": [
      "segmented-data-v1-0.csv\n",
      "segmented-data-v1-1.csv\n",
      "segmented-data-v1-2.csv\n",
      "segmented-data-v1-3.csv\n"
     ]
    }
   ],
   "source": [
    "for file in [\n",
    "\t'segmented-data-v1-0.csv',\n",
    "\t'segmented-data-v1-1.csv',\n",
    "\t'segmented-data-v1-2.csv',\n",
    "\t'segmented-data-v1-3.csv',\n",
    "]:\n",
    "\tprint(file)\n",
    "\t(\n",
    "\t\tpd.read_csv('./inpsecting.csv')\n",
    "\t\t\t.merge(\n",
    "\t\t\t\tpd.read_csv(\n",
    "\t\t\t\t\tfile,\n",
    "\t\t\t\t\tdtype={\n",
    "\t\t\t\t\t\t'img_type': int,\n",
    "\t\t\t\t\t\t'patient_id': int,\n",
    "\t\t\t\t\t\t'cycle_id': int,\n",
    "\t\t\t\t\t\t'slice_id': int,\n",
    "\t\t\t\t\t\t'confirmed_cancer': str,\n",
    "\t\t\t\t\t\t'unconfirmed_cancer': str,\n",
    "\t\t\t\t\t\t'benign': str,\n",
    "\t\t\t\t\t\t'mask_int_mean': float,\n",
    "\t\t\t\t\t\t'segment': int,\n",
    "\t\t\t\t\t},\n",
    "\t\t\t\t),\n",
    "\t\t\t\thow='left',\n",
    "\t\t\t)\n",
    "\t\t\t.query('img_type != img_type')\n",
    "\t\t\t[['patient_id', 'cycle_id', 'slice_id']]\n",
    "\t\t\t.to_csv('./inpsecting.csv', index=False)\n",
    "\t)"
   ]
  },
  {
   "cell_type": "code",
   "execution_count": 59,
   "id": "aea9f106-c543-4e24-a3fd-4a71714f8ae8",
   "metadata": {},
   "outputs": [],
   "source": [
    "(\n",
    "\tpd.read_csv('./inpsecting.csv')\n",
    "\t\t[['patient_id', 'slice_id']]\n",
    "\t\t.drop_duplicates()\n",
    "\t\t.sort_values(['patient_id', 'slice_id'])\n",
    "\t\t.to_csv('./inpsecting-1.csv', index=False)\n",
    ")"
   ]
  },
  {
   "cell_type": "code",
   "execution_count": 10,
   "id": "24842aef-bb57-48fe-b0d3-0252bbe22bd3",
   "metadata": {},
   "outputs": [
    {
     "data": {
      "text/plain": [
       "False    814\n",
       "True       5\n",
       "Name: label, dtype: int64"
      ]
     },
     "execution_count": 10,
     "metadata": {},
     "output_type": "execute_result"
    }
   ],
   "source": [
    "pd.read_csv(\n",
    "\t'segmentations/segmentation-6.csv',\n",
    "\tdtype={\n",
    "\t\t'img_type': int,\n",
    "\t\t'patient_id': int,\n",
    "\t\t'cycle_id': int,\n",
    "\t\t'slice_id': int,\n",
    "\t\t'label': bool,\n",
    "\t\t# 'confirmed_cancer': bool,\n",
    "\t\t# 'unconfirmed_cancer': bool,\n",
    "\t\t# 'benign': bool,\n",
    "\t\t'mask_int_mean': float,\n",
    "\t\t'segment': int,\n",
    "\t},\n",
    ").query('patient_id == 2').drop(['cycle_id', 'mask_int_mean'], axis='columns').drop_duplicates().label.value_counts()\n",
    "# [['benign', 'unconfirmed_cancer', 'confirmed_cancer']].drop_duplicates()"
   ]
  },
  {
   "cell_type": "code",
   "execution_count": 13,
   "id": "c12cc4b7-a04e-48ca-a7c4-1ee6f1d0613e",
   "metadata": {},
   "outputs": [
    {
     "name": "stdout",
     "output_type": "stream",
     "text": [
      "segmented-data-v1-0.csv\n",
      "segmented-data-v1-1.csv\n",
      "segmented-data-v1-2.csv\n",
      "segmented-data-v1-3.csv\n"
     ]
    }
   ],
   "source": [
    "for file in [\n",
    "\t'segmented-data-v1-0.csv',\n",
    "\t'segmented-data-v1-1.csv',\n",
    "\t'segmented-data-v1-2.csv',\n",
    "\t'segmented-data-v1-3.csv',\n",
    "\t# 'segmented-data.csv',\n",
    "\t# 'segmented-data-1.csv',\n",
    "\t# 'segmented-data-2.csv',\n",
    "\t# 'segmented-data-3.csv',\n",
    "\t# 'segmented-data-4.csv',\n",
    "\t# 'segmented-data-41.csv',\n",
    "\t# 'segmented-data-5.csv',\n",
    "]:\n",
    "\tprint(file)\n",
    "\t(\n",
    "\t\tpd.read_csv(\n",
    "\t\t\tfile,\n",
    "\t\t\tdtype={\n",
    "\t\t\t\t'img_type': int,\n",
    "\t\t\t\t'patient_id': int,\n",
    "\t\t\t\t'cycle_id': int,\n",
    "\t\t\t\t'slice_id': int,\n",
    "\t\t\t\t# 'confirmed_cancer': str,\n",
    "\t\t\t\t# 'unconfirmed_cancer': str,\n",
    "\t\t\t\t# 'benign': str,\n",
    "\t\t\t\t'confirmed_cancer': bool,\n",
    "\t\t\t\t'unconfirmed_cancer': bool,\n",
    "\t\t\t\t'benign': bool,\n",
    "\t\t\t\t'mask_int_mean': float,\n",
    "\t\t\t\t'segment': int,\n",
    "\t\t\t},\n",
    "\t\t)\n",
    "\t\t\t.query('(confirmed_cancer or benign) and mask_int_mean == mask_int_mean')\n",
    "\t\t\t.assign(label=lambda x: x.confirmed_cancer.astype(int))\n",
    "\t\t\t# .query('(confirmed_cancer == 1.0 or confirmed_cancer == \"1.0\" or confirmed_cancer == \"True\" or benign == 1.0 or benign == \"1.0\" or benign == \"True\") and mask_int_mean == mask_int_mean')\n",
    "\t\t\t# .assign(label=lambda x: x.confirmed_cancer.astype(str).str.match('1.0|True'))\n",
    "\t\t\t[[\n",
    "\t\t\t\t'img_type', 'patient_id', 'cycle_id', 'slice_id', 'mask_int_mean',\n",
    "\t\t\t\t'segment', 'label',\n",
    "\t\t\t]]\n",
    "\t\t\t.to_csv(f'filtered/{file}', index=False)\n",
    "\t)"
   ]
  },
  {
   "cell_type": "code",
   "execution_count": 132,
   "id": "8ac28715-ecac-4667-a39c-6798b53a7b58",
   "metadata": {},
   "outputs": [
    {
     "name": "stdout",
     "output_type": "stream",
     "text": [
      "1.0\n",
      "2.0\n",
      "3.0\n",
      "4.0\n"
     ]
    }
   ],
   "source": [
    "\n",
    "segmentations = 25\n",
    "shift_up_to = 5\n",
    "path_processed = './processed/'\n",
    "\n",
    "\n",
    "def get_non_null(row, columns=['cycle', 'lag', 'lead']):\n",
    "\tvalues = [row[col] for col in columns if pd.notnull(row[col])]\n",
    "\tif len(values) != 0:\n",
    "\t\treturn values[0]\n",
    "\n",
    "\n",
    "patients = pd.read_csv(f'{path_processed}metadata.csv')\n",
    "exclude_patients = np.concatenate(\n",
    "\t[\n",
    "\t\tpatients\n",
    "\t\t\t.groupby('patient').cycle.max().reset_index()\n",
    "\t\t\t.query('cycle < 10')['patient'],\n",
    "\t\t[102, 129, 54, 61, 65, 67, 68, 84, 89, 94, 95],\n",
    "\t]\n",
    ")\n",
    "patients = (\n",
    "\tpatients[patients.patient.apply(lambda x: x not in exclude_patients)]\n",
    "\t\t.query('has_prostate')\n",
    "\t\t[['patient', 'cycle']]\n",
    "\t\t.drop_duplicates()\n",
    ")\n",
    "\n",
    "patients['segment'] = (\n",
    "\tpatients.cycle\n",
    "\t\t/ patients.groupby('patient').cycle.transform('max')\n",
    "\t\t* (segmentations - 1)\n",
    ").round()\n",
    "\n",
    "patients = (\n",
    "\tpd.DataFrame(\n",
    "\t\tnp.transpose(\n",
    "\t\t\t[\n",
    "\t\t\t\tnp.linspace(0, segmentations - 1, segmentations),\n",
    "\t\t\t\tnp.repeat([1], segmentations)\n",
    "\t\t\t]\n",
    "\t\t),\n",
    "\t\tcolumns=['segment', 'key'],\n",
    "\t)\n",
    "\t.merge(\n",
    "\t\tpd.DataFrame(\n",
    "\t\t\tnp.transpose(\n",
    "\t\t\t\t[\n",
    "\t\t\t\t\tpatients.patient.drop_duplicates().sort_values(),\n",
    "\t\t\t\t\tnp.repeat([1], patients.patient.drop_duplicates().shape[0])\n",
    "\t\t\t\t]\n",
    "\t\t\t),\n",
    "\t\t\tcolumns=['patient', 'key'],\n",
    "\t\t)\n",
    "\t)\n",
    "\t.merge(\n",
    "\t\tpatients.groupby(['patient', 'segment']).cycle.max().reset_index(),\n",
    "\t\thow='outer',\n",
    "\t)\n",
    "\t.sort_values(['patient', 'segment'])\n",
    "\t[['segment', 'patient', 'cycle']]\n",
    ")\n",
    "\n",
    "for shift_to in np.linspace(1, shift_up_to, shift_up_to):\n",
    "\tif patients.cycle.notnull().all():\n",
    "\t\tbreak\n",
    "\tprint(shift_to)\n",
    "\tpatients['lag'] = patients.groupby('patient').cycle.shift(shift_to)\n",
    "\tpatients['lead'] = patients.groupby('patient').cycle.shift(-shift_to)\n",
    "\tpatients['cycle'] = patients.apply(get_non_null, axis='columns')\n",
    "\n",
    "(\n",
    "\tpatients[['segment', 'patient', 'cycle']]\n",
    "\t\t.rename(\n",
    "\t\t\t{'segment': 'new_segment', 'cycle':'segment', 'patient': 'patient_id'},\n",
    "\t\t\taxis='columns',\n",
    "\t\t)\n",
    "\t\t.to_csv('segmentation_mapping.csv', index=False)\n",
    ")"
   ]
  },
  {
   "cell_type": "code",
   "execution_count": 14,
   "id": "b21f046a-ff20-4b77-8e53-505ae42126d6",
   "metadata": {},
   "outputs": [
    {
     "name": "stdout",
     "output_type": "stream",
     "text": [
      "segmented-data-v1-0.csv\n",
      "segmented-data-v1-1.csv\n",
      "segmented-data-v1-2.csv\n",
      "segmented-data-v1-3.csv\n"
     ]
    }
   ],
   "source": [
    "def split_segmentations(file, mapping):\n",
    "\tsegmentations = (\n",
    "\t\tpd.read_csv(\n",
    "\t\t\tf'filtered/{file}',\n",
    "\t\t\tdtype={\n",
    "\t\t\t\t'img_type': int,\n",
    "\t\t\t\t'patient_id': int,\n",
    "\t\t\t\t'cycle_id': int,\n",
    "\t\t\t\t'slice_id': int,\n",
    "\t\t\t\t'label': bool,\n",
    "\t\t\t\t'mask_int_mean': float,\n",
    "\t\t\t\t'segment': int,\n",
    "\t\t\t},\n",
    "\t\t)\n",
    "\t\t\t.merge(mapping)\n",
    "\t\t\t.assign(segment=lambda x: x.new_segment)\n",
    "\t\t\t.drop(['new_segment'], axis='columns')\n",
    "\t)\n",
    "\tfor segmentation_id in mapping.new_segment.drop_duplicates().astype(int):\n",
    "\t\tif not os.path.exists(f'segmentations/segmentation-{segmentation_id}.csv'):\n",
    "\t\t\t(\n",
    "\t\t\t\tsegmentations.query(f'segment == {segmentation_id}')\n",
    "\t\t\t\t\t.drop(['segment'], axis='columns')\n",
    "\t\t\t\t\t.drop_duplicates()\n",
    "\t\t\t\t\t.to_csv(f'segmentations/segmentation-{segmentation_id}.csv', index=False)\n",
    "\t\t\t)\n",
    "\t\t\tcontinue\n",
    "\t\t(\n",
    "\t\t\tsegmentations.query(f'segment == {segmentation_id}')\n",
    "\t\t\t\t.drop(['segment'], axis='columns')\n",
    "\t\t\t\t.drop_duplicates()\n",
    "\t\t\t\t.to_csv(\n",
    "\t\t\t\t\tf'segmentations/segmentation-{segmentation_id}.csv',\n",
    "\t\t\t\t\tmode='a', header=False, index=False,\n",
    "\t\t\t\t)\n",
    "\t\t)\n",
    "\n",
    "\n",
    "mapping = pd.read_csv('segmentation_mapping.csv')\n",
    "\n",
    "for file in [\n",
    "\t'segmented-data-v1-0.csv',\n",
    "\t'segmented-data-v1-1.csv',\n",
    "\t'segmented-data-v1-2.csv',\n",
    "\t'segmented-data-v1-3.csv',\n",
    "\t# 'segmented-data.csv',\n",
    "\t# 'segmented-data-1.csv',\n",
    "\t# 'segmented-data-2.csv',\n",
    "\t# 'segmented-data-3.csv',\n",
    "\t# 'segmented-data-4.csv',\n",
    "\t# 'segmented-data-41.csv',\n",
    "\t# 'segmented-data-5.csv',\n",
    "]:\n",
    "\tprint(file)\n",
    "\tsplit_segmentations(file, mapping)"
   ]
  }
 ],
 "metadata": {
  "kernelspec": {
   "display_name": "Python 3 (ipykernel)",
   "language": "python",
   "name": "python3"
  },
  "language_info": {
   "codemirror_mode": {
    "name": "ipython",
    "version": 3
   },
   "file_extension": ".py",
   "mimetype": "text/x-python",
   "name": "python",
   "nbconvert_exporter": "python",
   "pygments_lexer": "ipython3",
   "version": "3.8.10"
  }
 },
 "nbformat": 4,
 "nbformat_minor": 5
}
